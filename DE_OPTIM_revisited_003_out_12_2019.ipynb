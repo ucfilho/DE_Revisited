{
  "nbformat": 4,
  "nbformat_minor": 0,
  "metadata": {
    "colab": {
      "name": "DE_OPTIM_revisited_003_out_12_2019.ipynb",
      "provenance": [],
      "collapsed_sections": [],
      "include_colab_link": true
    },
    "kernelspec": {
      "name": "python3",
      "display_name": "Python 3"
    },
    "language_info": {
      "codemirror_mode": {
        "name": "ipython",
        "version": 3
      },
      "file_extension": ".py",
      "mimetype": "text/x-python",
      "name": "python",
      "nbconvert_exporter": "python",
      "pygments_lexer": "ipython3",
      "version": "3.7.3"
    },
    "accelerator": "GPU"
  },
  "cells": [
    {
      "cell_type": "markdown",
      "metadata": {
        "id": "view-in-github",
        "colab_type": "text"
      },
      "source": [
        "<a href=\"https://colab.research.google.com/github/ucfilho/DE_Revisited/blob/master/DE_OPTIM_revisited_003_out_12_2019.ipynb\" target=\"_parent\"><img src=\"https://colab.research.google.com/assets/colab-badge.svg\" alt=\"Open In Colab\"/></a>"
      ]
    },
    {
      "cell_type": "code",
      "metadata": {
        "colab_type": "code",
        "id": "VNDZTKWUBOge",
        "outputId": "dbe8b799-2697-4ab0-8970-e6933167f193",
        "colab": {
          "base_uri": "https://localhost:8080/",
          "height": 126
        }
      },
      "source": [
        "############################### Importar códigos\n",
        "\n",
        "!git clone https://github.com/ucfilho/DE_Revisited/ #clonar do Github"
      ],
      "execution_count": 1,
      "outputs": [
        {
          "output_type": "stream",
          "text": [
            "Cloning into 'DE_Revisited'...\n",
            "remote: Enumerating objects: 63, done.\u001b[K\n",
            "remote: Counting objects: 100% (63/63), done.\u001b[K\n",
            "remote: Compressing objects: 100% (61/61), done.\u001b[K\n",
            "remote: Total 63 (delta 32), reused 0 (delta 0), pack-reused 0\u001b[K\n",
            "Unpacking objects: 100% (63/63), done.\n"
          ],
          "name": "stdout"
        }
      ]
    },
    {
      "cell_type": "code",
      "metadata": {
        "colab_type": "code",
        "id": "btZL0H3XBPx-",
        "outputId": "48988e5d-4a69-45ab-af4e-22ef0a62e82e",
        "colab": {
          "base_uri": "https://localhost:8080/",
          "height": 35
        }
      },
      "source": [
        "%cd DE_Revisited\n",
        "#!ls"
      ],
      "execution_count": 2,
      "outputs": [
        {
          "output_type": "stream",
          "text": [
            "/content/DE_Revisited\n"
          ],
          "name": "stdout"
        }
      ]
    },
    {
      "cell_type": "code",
      "metadata": {
        "id": "B7iwhNIlDXv2",
        "colab_type": "code",
        "colab": {}
      },
      "source": [
        "############################### Importar bibliotecas e iniciar a contagem do tempo\n",
        "import time\n",
        "import matplotlib.pyplot as plt\n",
        "import numpy as np\n",
        "from random import randint\n",
        "from scipy import optimize\n",
        "import de_revisited_bounds\n",
        "import de_soma_reviseted\n",
        "###############################"
      ],
      "execution_count": 0,
      "outputs": []
    },
    {
      "cell_type": "code",
      "metadata": {
        "colab_type": "code",
        "id": "BDMwd41C5ahQ",
        "colab": {}
      },
      "source": [
        "def fobj_de(x):\n",
        "  global MAX_P,MIN_P, mut, crossp, NPAR, its,Fun,X,SOMA,TOTAL,ITE,PARTIC\n",
        "  x=PARTIC\n",
        "  #print(MAX);print(MIN)\n",
        "  ind_mut=ITE-1\n",
        "  ind_crossp=2*ITE-1\n",
        "  for k in range(ITE):\n",
        "    ind_mut=ind_mut+1\n",
        "    ind_crossp=ind_crossp+1\n",
        "    #print(\"ind_mut\",ind_mut)\n",
        "    #print(\"ind_crossp\",ind_crossp)\n",
        "    #print(\"x\",x)\n",
        "    #print(\"k=\",k)\n",
        "    NPAR=np.copy(int(x[k]))\n",
        "    print(\"NPAR=\",NPAR)\n",
        "    mut=np.copy(x[ind_mut])\n",
        "    crossp=np.copy(x[ind_crossp])\n",
        "    X,BEST,FOBEST,XY,BEST_XY,SOMA= de_soma_reviseted.de(MAX_P,MIN_P, mut, crossp, \n",
        "                                                            NPAR, its,Fun,X,SOMA,\n",
        "                                                            TOTAL)\n",
        "    \n",
        "  return FOBEST"
      ],
      "execution_count": 0,
      "outputs": []
    },
    {
      "cell_type": "code",
      "metadata": {
        "colab_type": "code",
        "id": "v1OxgXboBKoG",
        "colab": {}
      },
      "source": [
        "############################### DADOS DE ENTRADA \n",
        "RUNS=1 #NÚMERO DE RODADAS\n",
        "#mut=0.8\n",
        "#crossp=0.7\n",
        "  ############################### Função\n",
        "import Function\n",
        "\n",
        "'''\n",
        "Fun=Function.Rosenbrock\n",
        "dim=30\n",
        "MAX=np.repeat(10,dim)\n",
        "MIN=np.repeat(-10,dim)\n",
        "\n",
        "  #Global optimum: f(xi)= 0\n",
        "'''\n",
        "'''\n",
        "dim=30\n",
        "Fun=Function.Sphere\n",
        "MAX=np.repeat(5.12,dim)\n",
        "MIN=np.repeat(-5.12,dim)\n",
        "  # f(x)=0 x=(0,0) [-5.12,5.12]\n",
        "'''\n",
        "#'''\n",
        "dim=3\n",
        "Fun=Function.Schwefel\n",
        "MAX=np.repeat(500,dim)\n",
        "MIN=np.repeat(-500,dim)\n",
        "  #Global optimum: f(xi)= 0 for xi = 420.968746 for i=1,...,n  ;  xi in [-500,500]  \n",
        "#'''\n",
        "'''\n",
        "dim=30\n",
        "Fun=Function.Rastrigin\n",
        "MAX=np.repeat(5.12,dim)\n",
        "MIN=np.repeat(-5.12,dim)\n",
        "  # f(x)=0 x=(0,0) [-5.12,5.12]\n",
        "'''\n",
        "'''\n",
        "dim=30\n",
        "Fun=Function.Sum_of_different_powers\n",
        "MAX=np.repeat(1,dim)\n",
        "MIN=np.repeat(-1,dim)\n",
        "  # f(x)=0 x=(0,0)\n",
        "'''\n",
        "'''  \n",
        "dim=30\n",
        "Fun=Function.Ackley\n",
        "MAX=np.repeat(32,dim)\n",
        "MIN=np.repeat(-32,dim)\n",
        " # f(x)=0 x=(0,0) [-32, 32]\n",
        "'''\n",
        "'''  \n",
        "dim=30\n",
        "Fun=Function.Michalewicz\n",
        "MAX=np.repeat(np.pi,dim)\n",
        "MIN=np.repeat(0,dim)\n",
        " #fx=-9.66015 p/ d=10 [0,pi]\n",
        "'''\n",
        "'''  \n",
        "dim=30\n",
        "Fun=Function.\n",
        "MAX=np.repeat(1,dim)\n",
        "MIN=np.repeat(-1,dim)\n",
        "'''\n",
        "\n",
        "PAR=len(MAX) #NUM DE PARAMETROS A SER OTIMIZADOS\n"
      ],
      "execution_count": 0,
      "outputs": []
    },
    {
      "cell_type": "code",
      "metadata": {
        "id": "Mb3LmbSmj9v7",
        "colab_type": "code",
        "outputId": "5a258447-a088-4eeb-c01f-52f861f83778",
        "colab": {
          "base_uri": "https://localhost:8080/",
          "height": 467
        }
      },
      "source": [
        "##################################### IMPORTAR MÓDULOS\n",
        "\n",
        "\n",
        "\n",
        "NMAX=1000 # maximo tamanho da populacao\n",
        "\n",
        "dimensions=len(MAX)\n",
        "\n",
        "start_time = time.time() #INICIALIZA CONTAGEM DO TEMPO\n",
        "its=10 # quantas vezes vai usar o NPAR antes de alterar de novo\n",
        "ITE=10 # PONTOS quantas vezes vai alteral NPAR \n",
        "#PARTIC=[10,80,10,400,100,100,100,100,100,100]\n",
        "#ITE=50 # so para testar\n",
        "\n",
        "#TOTAL=7*dim*its*ITE\n",
        "TOTAL=10*dim*its*ITE\n",
        "\n",
        "maxiter=50\n",
        "popsize=50\n",
        "p=int(TOTAL/its/ITE) \n",
        "\n",
        "#PARTIC=np.zeros(ITE) # porque isto se eh redefinido mais em baixo e nao eh usado aqui\n",
        "MAX_P=np.zeros(ITE) # ATENCAO para variar F e Cr MAX_P passa a ser 3 vezes maior\n",
        "MIN_P=np.zeros(ITE) # ATENCAO para variar F e Cr  MIN_P passa a ser 3 vezes maior\n",
        "\n",
        "for i in range(dim):\n",
        "  MAX_P[i]=MAX[i] \n",
        "  MIN_P[i]=MIN[i]\n",
        "\n",
        "\n",
        "for i in range(RUNS):\n",
        "  SOMA=0\n",
        "  pop = np.random.rand(NMAX, dimensions)\n",
        "  diff=np.zeros(PAR)\n",
        "  for ii in range(PAR):\n",
        "    diff[ii] = MAX[ii]-MIN[ii]\n",
        "  X = MIN + pop * diff\n",
        "    \n",
        "  PONTOS=ITE # DIVISOES DA POPULACAO\n",
        " \n",
        " ############################################################\n",
        "  #bounds=[(5*dim, 15*dim)] * PONTOS # ITE\n",
        "  #bounds=[(3*dim, 12*dim)] * PONTOS # ITE\n",
        "  #bounds=[(4*dim, 16*dim)] * PONTOS\n",
        "  \n",
        "  # nao pode ser assim pq o bounds vale p o DE nao dos parametros\n",
        "  #p=int(TOTAL/its/ITE) \n",
        "  #bounds=[(p, p)] * PONTOS\n",
        "  bounds=[]\n",
        "  for k in range(dim):\n",
        "    bounds.append((MIN[k], MAX[k]))\n",
        "  print(\"=========bounds=\",bounds)\n",
        "    \n",
        "\n",
        "\n",
        "  '''\n",
        "  #Geral\n",
        "  new_mut=(0,1)\n",
        "  new_crossp=(0,1)\n",
        "  '''\n",
        "  #'''\n",
        "  #Multimodal Separável \n",
        "  new_mut=(0.5,1)\n",
        "  new_crossp=(0,0.5)\n",
        "  #'''\n",
        "  '''\n",
        "  #Multimodal Não Separável \n",
        "  new_mut=(0.5,1)\n",
        "  new_crossp=(0.5,1)\n",
        "  '''\n",
        "  '''\n",
        "  ##### Unimodal Separável\n",
        "  new_mut=(0,0.5)\n",
        "  new_crossp=(0,0.5)\n",
        "  '''\n",
        "  '''\n",
        "  ##### Unimodal Não Separável\n",
        "  new_mut=(0,0.5)\n",
        "  new_crossp=(0.5,1)\n",
        "  '''\n",
        " ############################################################ \n",
        "  # nao pode ser assim pq o bounds vale p o DE nao dos parametros\n",
        "  ''' \n",
        "  for j in range(PONTOS):\n",
        "    bounds.append(new_mut)\n",
        "    \n",
        "  for j in range(PONTOS):\n",
        "    bounds.append(new_crossp)\n",
        "  '''\n",
        "  new_mut=(0.5,1)\n",
        "  new_crossp=(0,0.5)\n",
        "  Fr=np.zeros(its)\n",
        "  Cr=np.zeros(its)\n",
        "  for i in range(its): # conferir se eh i mesmo ou deve ser k o indice\n",
        "    Cr[i]=new_mut[0]+(new_mut[1]-new_mut[0])*np.random.random()\n",
        "    Fr[i]=new_mut[0]+(new_mut[1]-new_mut[0])*np.random.random()\n",
        "  Cr=0;Fr=0;NP=p;\n",
        "  PARTIC=np.zeros(its*3)\n",
        "  for i in range(its):\n",
        "    Cr=new_crossp[0]+(new_crossp[1]-new_crossp[0])*np.random.random()\n",
        "    Fr=new_mut[0]+(new_mut[1]-new_mut[0])*np.random.random()\n",
        "    PARTIC[i]=NP\n",
        "    PARTIC[i+10]=Fr\n",
        "    PARTIC[i+20]=Cr\n",
        "\n",
        "  mut=0.5;  crossp=0.5;\n",
        "  X,BEST,FOBEST,XY,BEST_XY= de_revisited_bounds.de(bounds, mut, \n",
        "                                                   crossp,popsize, maxiter,\n",
        "                                                   fobj_de,PARTIC)\n",
        "  \n",
        "  Y=BEST_XY#ret.x\n",
        "  \n",
        "\n",
        "  print('OTIMIZAÇÃO DE_','maxiter=',maxiter,'_ popsize=', popsize,'_ bounds=',\n",
        "        bounds[0],'_F',new_mut,'_Cr',new_crossp,'_ TOTAL=',TOTAL,'_ Dim=', \n",
        "        PAR,\"_Min/Max=\",MIN[0],\"/\",MAX[0],'_',Fun.__name__)\n",
        "  print('ótimo FOBEST=',ret.fun)\n",
        "  print(\"Soma=\",SOMA)\n",
        "  #print(\"Particulas= \",PARTIC) \n",
        "  \n",
        "#print(\"GlobalParam e Solucao:\", BEST,\"Função=\",FOBEST)     \n"
      ],
      "execution_count": 6,
      "outputs": [
        {
          "output_type": "stream",
          "text": [
            "=========bounds= [(-500, 500), (-500, 500), (-500, 500)]\n",
            "NPAR= 30\n",
            "================\n",
            "[ True  True False False False False  True False False  True] [-500.          500.          116.81850397] [  -2.90352338  258.06784503 -148.81866186]\n"
          ],
          "name": "stdout"
        },
        {
          "output_type": "error",
          "ename": "ValueError",
          "evalue": "ignored",
          "traceback": [
            "\u001b[0;31m---------------------------------------------------------------------------\u001b[0m",
            "\u001b[0;31mValueError\u001b[0m                                Traceback (most recent call last)",
            "\u001b[0;32m<ipython-input-6-cb5045317fce>\u001b[0m in \u001b[0;36m<module>\u001b[0;34m()\u001b[0m\n\u001b[1;32m    106\u001b[0m   X,BEST,FOBEST,XY,BEST_XY= de_revisited_bounds.de(bounds, mut, \n\u001b[1;32m    107\u001b[0m                                                    \u001b[0mcrossp\u001b[0m\u001b[0;34m,\u001b[0m\u001b[0mpopsize\u001b[0m\u001b[0;34m,\u001b[0m \u001b[0mmaxiter\u001b[0m\u001b[0;34m,\u001b[0m\u001b[0;34m\u001b[0m\u001b[0;34m\u001b[0m\u001b[0m\n\u001b[0;32m--> 108\u001b[0;31m                                                    fobj_de,PARTIC)\n\u001b[0m\u001b[1;32m    109\u001b[0m \u001b[0;34m\u001b[0m\u001b[0m\n\u001b[1;32m    110\u001b[0m   \u001b[0mY\u001b[0m\u001b[0;34m=\u001b[0m\u001b[0mBEST_XY\u001b[0m\u001b[0;31m#ret.x\u001b[0m\u001b[0;34m\u001b[0m\u001b[0;34m\u001b[0m\u001b[0m\n",
            "\u001b[0;32m/content/DE_Revisited/de_revisited_bounds.py\u001b[0m in \u001b[0;36mde\u001b[0;34m(bounds, mut, crossp, popsize, its, fobj, X)\u001b[0m\n\u001b[1;32m     25\u001b[0m     \u001b[0mbounds\u001b[0m\u001b[0;34m[\u001b[0m\u001b[0mi\u001b[0m\u001b[0;34m]\u001b[0m\u001b[0;34m=\u001b[0m\u001b[0;34m(\u001b[0m\u001b[0mMIN\u001b[0m\u001b[0;34m[\u001b[0m\u001b[0mi\u001b[0m\u001b[0;34m]\u001b[0m\u001b[0;34m,\u001b[0m \u001b[0mMAX\u001b[0m\u001b[0;34m[\u001b[0m\u001b[0mi\u001b[0m\u001b[0;34m]\u001b[0m\u001b[0;34m)\u001b[0m\u001b[0;34m\u001b[0m\u001b[0;34m\u001b[0m\u001b[0m\n\u001b[1;32m     26\u001b[0m \u001b[0;34m\u001b[0m\u001b[0m\n\u001b[0;32m---> 27\u001b[0;31m   \u001b[0mfitness\u001b[0m \u001b[0;34m=\u001b[0m \u001b[0mnp\u001b[0m\u001b[0;34m.\u001b[0m\u001b[0masarray\u001b[0m\u001b[0;34m(\u001b[0m\u001b[0;34m[\u001b[0m\u001b[0mfobj\u001b[0m\u001b[0;34m(\u001b[0m\u001b[0mind\u001b[0m\u001b[0;34m)\u001b[0m \u001b[0;32mfor\u001b[0m \u001b[0mind\u001b[0m \u001b[0;32min\u001b[0m \u001b[0mX\u001b[0m\u001b[0;34m]\u001b[0m\u001b[0;34m)\u001b[0m\u001b[0;34m\u001b[0m\u001b[0;34m\u001b[0m\u001b[0m\n\u001b[0m\u001b[1;32m     28\u001b[0m   \u001b[0mbest_idx\u001b[0m \u001b[0;34m=\u001b[0m \u001b[0mnp\u001b[0m\u001b[0;34m.\u001b[0m\u001b[0margmin\u001b[0m\u001b[0;34m(\u001b[0m\u001b[0mfitness\u001b[0m\u001b[0;34m)\u001b[0m\u001b[0;34m\u001b[0m\u001b[0;34m\u001b[0m\u001b[0m\n\u001b[1;32m     29\u001b[0m   \u001b[0mbest\u001b[0m \u001b[0;34m=\u001b[0m \u001b[0mX\u001b[0m\u001b[0;34m[\u001b[0m\u001b[0mbest_idx\u001b[0m\u001b[0;34m]\u001b[0m\u001b[0;34m\u001b[0m\u001b[0;34m\u001b[0m\u001b[0m\n",
            "\u001b[0;32m/content/DE_Revisited/de_revisited_bounds.py\u001b[0m in \u001b[0;36m<listcomp>\u001b[0;34m(.0)\u001b[0m\n\u001b[1;32m     25\u001b[0m     \u001b[0mbounds\u001b[0m\u001b[0;34m[\u001b[0m\u001b[0mi\u001b[0m\u001b[0;34m]\u001b[0m\u001b[0;34m=\u001b[0m\u001b[0;34m(\u001b[0m\u001b[0mMIN\u001b[0m\u001b[0;34m[\u001b[0m\u001b[0mi\u001b[0m\u001b[0;34m]\u001b[0m\u001b[0;34m,\u001b[0m \u001b[0mMAX\u001b[0m\u001b[0;34m[\u001b[0m\u001b[0mi\u001b[0m\u001b[0;34m]\u001b[0m\u001b[0;34m)\u001b[0m\u001b[0;34m\u001b[0m\u001b[0;34m\u001b[0m\u001b[0m\n\u001b[1;32m     26\u001b[0m \u001b[0;34m\u001b[0m\u001b[0m\n\u001b[0;32m---> 27\u001b[0;31m   \u001b[0mfitness\u001b[0m \u001b[0;34m=\u001b[0m \u001b[0mnp\u001b[0m\u001b[0;34m.\u001b[0m\u001b[0masarray\u001b[0m\u001b[0;34m(\u001b[0m\u001b[0;34m[\u001b[0m\u001b[0mfobj\u001b[0m\u001b[0;34m(\u001b[0m\u001b[0mind\u001b[0m\u001b[0;34m)\u001b[0m \u001b[0;32mfor\u001b[0m \u001b[0mind\u001b[0m \u001b[0;32min\u001b[0m \u001b[0mX\u001b[0m\u001b[0;34m]\u001b[0m\u001b[0;34m)\u001b[0m\u001b[0;34m\u001b[0m\u001b[0;34m\u001b[0m\u001b[0m\n\u001b[0m\u001b[1;32m     28\u001b[0m   \u001b[0mbest_idx\u001b[0m \u001b[0;34m=\u001b[0m \u001b[0mnp\u001b[0m\u001b[0;34m.\u001b[0m\u001b[0margmin\u001b[0m\u001b[0;34m(\u001b[0m\u001b[0mfitness\u001b[0m\u001b[0;34m)\u001b[0m\u001b[0;34m\u001b[0m\u001b[0;34m\u001b[0m\u001b[0m\n\u001b[1;32m     29\u001b[0m   \u001b[0mbest\u001b[0m \u001b[0;34m=\u001b[0m \u001b[0mX\u001b[0m\u001b[0;34m[\u001b[0m\u001b[0mbest_idx\u001b[0m\u001b[0;34m]\u001b[0m\u001b[0;34m\u001b[0m\u001b[0;34m\u001b[0m\u001b[0m\n",
            "\u001b[0;32m<ipython-input-4-fb2599829636>\u001b[0m in \u001b[0;36mfobj_de\u001b[0;34m(x)\u001b[0m\n\u001b[1;32m     18\u001b[0m     X,BEST,FOBEST,XY,BEST_XY,SOMA= de_soma_reviseted.de(MAX_P,MIN_P, mut, crossp, \n\u001b[1;32m     19\u001b[0m                                                             \u001b[0mNPAR\u001b[0m\u001b[0;34m,\u001b[0m \u001b[0mits\u001b[0m\u001b[0;34m,\u001b[0m\u001b[0mFun\u001b[0m\u001b[0;34m,\u001b[0m\u001b[0mX\u001b[0m\u001b[0;34m,\u001b[0m\u001b[0mSOMA\u001b[0m\u001b[0;34m,\u001b[0m\u001b[0;34m\u001b[0m\u001b[0;34m\u001b[0m\u001b[0m\n\u001b[0;32m---> 20\u001b[0;31m                                                             TOTAL)\n\u001b[0m\u001b[1;32m     21\u001b[0m \u001b[0;34m\u001b[0m\u001b[0m\n\u001b[1;32m     22\u001b[0m   \u001b[0;32mreturn\u001b[0m \u001b[0mFOBEST\u001b[0m\u001b[0;34m\u001b[0m\u001b[0;34m\u001b[0m\u001b[0m\n",
            "\u001b[0;32m/content/DE_Revisited/de_soma_reviseted.py\u001b[0m in \u001b[0;36mde\u001b[0;34m(MAX, MIN, mut, crossp, popsize, its, fobj, X, SOMA, TOTAL)\u001b[0m\n\u001b[1;32m     62\u001b[0m       \u001b[0mprint\u001b[0m\u001b[0;34m(\u001b[0m\u001b[0;34m\"================\"\u001b[0m\u001b[0;34m)\u001b[0m\u001b[0;34m\u001b[0m\u001b[0;34m\u001b[0m\u001b[0m\n\u001b[1;32m     63\u001b[0m       \u001b[0mprint\u001b[0m\u001b[0;34m(\u001b[0m\u001b[0mcross_points\u001b[0m\u001b[0;34m,\u001b[0m \u001b[0mmutant\u001b[0m\u001b[0;34m,\u001b[0m \u001b[0mX\u001b[0m\u001b[0;34m[\u001b[0m\u001b[0mj\u001b[0m\u001b[0;34m,\u001b[0m\u001b[0;34m:\u001b[0m\u001b[0;34m]\u001b[0m\u001b[0;34m)\u001b[0m\u001b[0;34m\u001b[0m\u001b[0;34m\u001b[0m\u001b[0m\n\u001b[0;32m---> 64\u001b[0;31m       \u001b[0mtrial\u001b[0m \u001b[0;34m=\u001b[0m \u001b[0mnp\u001b[0m\u001b[0;34m.\u001b[0m\u001b[0mwhere\u001b[0m\u001b[0;34m(\u001b[0m\u001b[0mcross_points\u001b[0m\u001b[0;34m,\u001b[0m \u001b[0mmutant\u001b[0m\u001b[0;34m,\u001b[0m \u001b[0mX\u001b[0m\u001b[0;34m[\u001b[0m\u001b[0mj\u001b[0m\u001b[0;34m,\u001b[0m\u001b[0;34m:\u001b[0m\u001b[0;34m]\u001b[0m\u001b[0;34m)\u001b[0m\u001b[0;34m\u001b[0m\u001b[0;34m\u001b[0m\u001b[0m\n\u001b[0m\u001b[1;32m     65\u001b[0m \u001b[0;34m\u001b[0m\u001b[0m\n\u001b[1;32m     66\u001b[0m \u001b[0;34m\u001b[0m\u001b[0m\n",
            "\u001b[0;31mValueError\u001b[0m: operands could not be broadcast together with shapes (10,) (3,) (3,) "
          ]
        }
      ]
    },
    {
      "cell_type": "markdown",
      "metadata": {
        "id": "ciomCD-pkwWx",
        "colab_type": "text"
      },
      "source": [
        "trial = np.where(cross_points, mutant, X[j,:])\n",
        "\n",
        "\n",
        "ValueError: operands could not be broadcast together with shapes (10,) (3,) (3,) "
      ]
    },
    {
      "cell_type": "code",
      "metadata": {
        "id": "lMrr0VS9Ra3l",
        "colab_type": "code",
        "colab": {}
      },
      "source": [
        "print(dim)"
      ],
      "execution_count": 0,
      "outputs": []
    },
    {
      "cell_type": "code",
      "metadata": {
        "id": "7PX-5n8lPUC0",
        "colab_type": "code",
        "colab": {}
      },
      "source": [
        "print(bounds)"
      ],
      "execution_count": 0,
      "outputs": []
    },
    {
      "cell_type": "code",
      "metadata": {
        "id": "GxW3GgDseOVP",
        "colab_type": "code",
        "colab": {}
      },
      "source": [
        "Num=len(X[0,:]);print(Num)"
      ],
      "execution_count": 0,
      "outputs": []
    },
    {
      "cell_type": "code",
      "metadata": {
        "id": "sh3U7o0AX1lF",
        "colab_type": "code",
        "colab": {}
      },
      "source": [
        "print(SOMA)"
      ],
      "execution_count": 0,
      "outputs": []
    },
    {
      "cell_type": "code",
      "metadata": {
        "id": "aPls7UosX4or",
        "colab_type": "code",
        "colab": {}
      },
      "source": [
        "print(TOTAL)"
      ],
      "execution_count": 0,
      "outputs": []
    },
    {
      "cell_type": "code",
      "metadata": {
        "id": "n33GTL5NyCt_",
        "colab_type": "code",
        "colab": {}
      },
      "source": [
        "print(PARTIC)"
      ],
      "execution_count": 0,
      "outputs": []
    },
    {
      "cell_type": "code",
      "metadata": {
        "id": "rYZhzb_ldfdf",
        "colab_type": "code",
        "colab": {}
      },
      "source": [
        "print(len(X))"
      ],
      "execution_count": 0,
      "outputs": []
    },
    {
      "cell_type": "code",
      "metadata": {
        "id": "8kLspFtJmE_4",
        "colab_type": "code",
        "colab": {}
      },
      "source": [
        "print(BEST_XY)"
      ],
      "execution_count": 0,
      "outputs": []
    },
    {
      "cell_type": "code",
      "metadata": {
        "id": "rNocpY6IaLDA",
        "colab_type": "code",
        "colab": {}
      },
      "source": [
        "print(len(bounds))"
      ],
      "execution_count": 0,
      "outputs": []
    },
    {
      "cell_type": "code",
      "metadata": {
        "id": "9k1MgL3u1q_B",
        "colab_type": "code",
        "colab": {}
      },
      "source": [
        "TIME = (time.time() - start_time)\n",
        "print(TIME/60,'minutos')"
      ],
      "execution_count": 0,
      "outputs": []
    },
    {
      "cell_type": "code",
      "metadata": {
        "id": "m9LP0Xt1CjMp",
        "colab_type": "code",
        "colab": {}
      },
      "source": [
        "s=PARTIC*its\n",
        "somaa=s.sum()\n",
        "print('SOMA PARTIC=',somaa)"
      ],
      "execution_count": 0,
      "outputs": []
    },
    {
      "cell_type": "code",
      "metadata": {
        "id": "IJV62yE7vl1K",
        "colab_type": "code",
        "colab": {}
      },
      "source": [
        "print('PARTIC=[',end = '')\n",
        "for i in range(len(Y)):\n",
        "  if i<ITE:\n",
        "    print(int(Y[i]),',',end = '')\n",
        "  else:\n",
        "    print(Y[i],',',end = '')\n",
        "print(']',end = '')"
      ],
      "execution_count": 0,
      "outputs": []
    }
  ]
}