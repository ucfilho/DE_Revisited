{
  "nbformat": 4,
  "nbformat_minor": 0,
  "metadata": {
    "colab": {
      "name": "Run_DE_revisited_bounds_001_out_11_2019.ipynb",
      "provenance": [],
      "collapsed_sections": [],
      "include_colab_link": true
    },
    "kernelspec": {
      "name": "python3",
      "display_name": "Python 3"
    }
  },
  "cells": [
    {
      "cell_type": "markdown",
      "metadata": {
        "id": "view-in-github",
        "colab_type": "text"
      },
      "source": [
        "<a href=\"https://colab.research.google.com/github/ucfilho/DE_Revisited/blob/master/Run_DE_revisited_bounds_001_out_11_2019.ipynb\" target=\"_parent\"><img src=\"https://colab.research.google.com/assets/colab-badge.svg\" alt=\"Open In Colab\"/></a>"
      ]
    },
    {
      "cell_type": "code",
      "metadata": {
        "id": "e9SUtOlp7WlE",
        "colab_type": "code",
        "outputId": "906153f1-a251-48d8-df13-fa4fa4a34f68",
        "colab": {
          "base_uri": "https://localhost:8080/",
          "height": 148
        }
      },
      "source": [
        "!git clone https://github.com/ucfilho/DE_Revisited/ #clonar do Github\n",
        "%cd DE_Revisited\n",
        "#!ls"
      ],
      "execution_count": 0,
      "outputs": [
        {
          "output_type": "stream",
          "text": [
            "Cloning into 'DE_Revisited'...\n",
            "remote: Enumerating objects: 18, done.\u001b[K\n",
            "remote: Counting objects: 100% (18/18), done.\u001b[K\n",
            "remote: Compressing objects: 100% (16/16), done.\u001b[K\n",
            "remote: Total 18 (delta 6), reused 0 (delta 0), pack-reused 0\u001b[K\n",
            "Unpacking objects: 100% (18/18), done.\n",
            "/content/DE_Revisited/DE_Revisited\n"
          ],
          "name": "stdout"
        }
      ]
    },
    {
      "cell_type": "code",
      "metadata": {
        "id": "1mImfgCL8AEj",
        "colab_type": "code",
        "colab": {}
      },
      "source": [
        "import numpy as np\n",
        "from random import randint\n",
        "import Function\n",
        "\n",
        "import de_revisited_bounds\n",
        "\n",
        "NPAR=100\n",
        "its=500\n",
        "mut=0.7\n",
        "crossp=0.5"
      ],
      "execution_count": 0,
      "outputs": []
    },
    {
      "cell_type": "code",
      "metadata": {
        "id": "eGjoDmXd7yib",
        "colab_type": "code",
        "colab": {}
      },
      "source": [
        "#'''\n",
        "dim=5\n",
        "Fun=Function.Schwefel\n",
        "MAX=np.repeat(500,dim)\n",
        "MIN=np.repeat(-500,dim)\n",
        "  #Global optimum: f(xi)= 0 for xi = 420.968746 for i=1,...,n  ;  xi in [-500,500]  \n",
        "#'''"
      ],
      "execution_count": 0,
      "outputs": []
    },
    {
      "cell_type": "code",
      "metadata": {
        "id": "xOUygQKJ87vI",
        "colab_type": "code",
        "outputId": "4fc865f8-496a-446e-a25a-6a701025508e",
        "colab": {
          "base_uri": "https://localhost:8080/",
          "height": 73
        }
      },
      "source": [
        "PAR=len(MAX)\n",
        "pop = np.random.rand(NPAR, PAR)\n",
        "diff=np.zeros(PAR)\n",
        "bounds=[(-500,500)]*PAR\n",
        "for i in range(PAR):\n",
        "  diff[i] = MAX[i]-MIN[i]\n",
        "  ''' \n",
        "  bounds[i][0]=MIN[i]\n",
        "  bounds[i][1]=MAX[i]\n",
        "  '''\n",
        "\n",
        "print(bounds)\n",
        "X = MIN + pop * diff\n",
        "\n",
        "X,BEST,FOBEST,XY,BEST_XY= de_revisited_bounds.de(bounds, mut, crossp, NPAR, its,Fun,X)\n",
        "\n",
        "print(\"GlobalParam e Solucao final:\", BEST_XY)"
      ],
      "execution_count": 0,
      "outputs": [
        {
          "output_type": "stream",
          "text": [
            "[(-500, 500), (-500, 500), (-500, 500), (-500, 500), (-500, 500)]\n",
            "GlobalParam e Solucao final: [ 403.19643078  418.81383792 -478.8716449   440.41091229  144.8631774\n",
            " 1049.57601904]\n"
          ],
          "name": "stdout"
        }
      ]
    }
  ]
}