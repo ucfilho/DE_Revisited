{
  "nbformat": 4,
  "nbformat_minor": 0,
  "metadata": {
    "colab": {
      "name": "DE_OPTIM_revisited_005_out_12_2019.ipynb",
      "provenance": [],
      "collapsed_sections": [],
      "include_colab_link": true
    },
    "kernelspec": {
      "name": "python3",
      "display_name": "Python 3"
    },
    "language_info": {
      "codemirror_mode": {
        "name": "ipython",
        "version": 3
      },
      "file_extension": ".py",
      "mimetype": "text/x-python",
      "name": "python",
      "nbconvert_exporter": "python",
      "pygments_lexer": "ipython3",
      "version": "3.7.3"
    },
    "accelerator": "GPU"
  },
  "cells": [
    {
      "cell_type": "markdown",
      "metadata": {
        "id": "view-in-github",
        "colab_type": "text"
      },
      "source": [
        "<a href=\"https://colab.research.google.com/github/ucfilho/DE_Revisited/blob/master/DE_OPTIM_revisited_005_out_12_2019.ipynb\" target=\"_parent\"><img src=\"https://colab.research.google.com/assets/colab-badge.svg\" alt=\"Open In Colab\"/></a>"
      ]
    },
    {
      "cell_type": "code",
      "metadata": {
        "colab_type": "code",
        "id": "VNDZTKWUBOge",
        "outputId": "add346ea-5865-4dc2-cccf-803dcb3b742e",
        "colab": {
          "base_uri": "https://localhost:8080/",
          "height": 148
        }
      },
      "source": [
        "############################### Importar códigos\n",
        "\n",
        "!git clone https://github.com/ucfilho/DE_Revisited/ #clonar do Github"
      ],
      "execution_count": 75,
      "outputs": [
        {
          "output_type": "stream",
          "text": [
            "Cloning into 'DE_Revisited'...\n",
            "remote: Enumerating objects: 135, done.\u001b[K\n",
            "remote: Counting objects:   0% (1/135)\u001b[K\rremote: Counting objects:   1% (2/135)\u001b[K\rremote: Counting objects:   2% (3/135)\u001b[K\rremote: Counting objects:   3% (5/135)\u001b[K\rremote: Counting objects:   4% (6/135)\u001b[K\rremote: Counting objects:   5% (7/135)\u001b[K\rremote: Counting objects:   6% (9/135)\u001b[K\rremote: Counting objects:   7% (10/135)\u001b[K\rremote: Counting objects:   8% (11/135)\u001b[K\rremote: Counting objects:   9% (13/135)\u001b[K\rremote: Counting objects:  10% (14/135)\u001b[K\rremote: Counting objects:  11% (15/135)\u001b[K\rremote: Counting objects:  12% (17/135)\u001b[K\rremote: Counting objects:  13% (18/135)\u001b[K\rremote: Counting objects:  14% (19/135)\u001b[K\rremote: Counting objects:  15% (21/135)\u001b[K\rremote: Counting objects:  16% (22/135)\u001b[K\rremote: Counting objects:  17% (23/135)\u001b[K\rremote: Counting objects:  18% (25/135)\u001b[K\rremote: Counting objects:  19% (26/135)\u001b[K\rremote: Counting objects:  20% (27/135)\u001b[K\rremote: Counting objects:  21% (29/135)\u001b[K\rremote: Counting objects:  22% (30/135)\u001b[K\rremote: Counting objects:  23% (32/135)\u001b[K\rremote: Counting objects:  24% (33/135)\u001b[K\rremote: Counting objects:  25% (34/135)\u001b[K\rremote: Counting objects:  26% (36/135)\u001b[K\rremote: Counting objects:  27% (37/135)\u001b[K\rremote: Counting objects:  28% (38/135)\u001b[K\rremote: Counting objects:  29% (40/135)\u001b[K\rremote: Counting objects:  30% (41/135)\u001b[K\rremote: Counting objects:  31% (42/135)\u001b[K\rremote: Counting objects:  32% (44/135)\u001b[K\rremote: Counting objects:  33% (45/135)\u001b[K\rremote: Counting objects:  34% (46/135)\u001b[K\rremote: Counting objects:  35% (48/135)\u001b[K\rremote: Counting objects:  36% (49/135)\u001b[K\rremote: Counting objects:  37% (50/135)\u001b[K\rremote: Counting objects:  38% (52/135)\u001b[K\rremote: Counting objects:  39% (53/135)\u001b[K\rremote: Counting objects:  40% (54/135)\u001b[K\rremote: Counting objects:  41% (56/135)\u001b[K\rremote: Counting objects:  42% (57/135)\u001b[K\rremote: Counting objects:  43% (59/135)\u001b[K\rremote: Counting objects:  44% (60/135)\u001b[K\rremote: Counting objects:  45% (61/135)\u001b[K\rremote: Counting objects:  46% (63/135)\u001b[K\rremote: Counting objects:  47% (64/135)\u001b[K\rremote: Counting objects:  48% (65/135)\u001b[K\rremote: Counting objects:  49% (67/135)\u001b[K\rremote: Counting objects:  50% (68/135)\u001b[K\rremote: Counting objects:  51% (69/135)\u001b[K\rremote: Counting objects:  52% (71/135)\u001b[K\rremote: Counting objects:  53% (72/135)\u001b[K\rremote: Counting objects:  54% (73/135)\u001b[K\rremote: Counting objects:  55% (75/135)\u001b[K\rremote: Counting objects:  56% (76/135)\u001b[K\rremote: Counting objects:  57% (77/135)\u001b[K\rremote: Counting objects:  58% (79/135)\u001b[K\rremote: Counting objects:  59% (80/135)\u001b[K\rremote: Counting objects:  60% (81/135)\u001b[K\rremote: Counting objects:  61% (83/135)\u001b[K\rremote: Counting objects:  62% (84/135)\u001b[K\rremote: Counting objects:  63% (86/135)\u001b[K\rremote: Counting objects:  64% (87/135)\u001b[K\rremote: Counting objects:  65% (88/135)\u001b[K\rremote: Counting objects:  66% (90/135)\u001b[K\rremote: Counting objects:  67% (91/135)\u001b[K\rremote: Counting objects:  68% (92/135)\u001b[K\rremote: Counting objects:  69% (94/135)\u001b[K\rremote: Counting objects:  70% (95/135)\u001b[K\rremote: Counting objects:  71% (96/135)\u001b[K\rremote: Counting objects:  72% (98/135)\u001b[K\rremote: Counting objects:  73% (99/135)\u001b[K\rremote: Counting objects:  74% (100/135)\u001b[K\rremote: Counting objects:  75% (102/135)\u001b[K\rremote: Counting objects:  76% (103/135)\u001b[K\rremote: Counting objects:  77% (104/135)\u001b[K\rremote: Counting objects:  78% (106/135)\u001b[K\rremote: Counting objects:  79% (107/135)\u001b[K\rremote: Counting objects:  80% (108/135)\u001b[K\rremote: Counting objects:  81% (110/135)\u001b[K\rremote: Counting objects:  82% (111/135)\u001b[K\rremote: Counting objects:  83% (113/135)\u001b[K\rremote: Counting objects:  84% (114/135)\u001b[K\rremote: Counting objects:  85% (115/135)\u001b[K\rremote: Counting objects:  86% (117/135)\u001b[K\rremote: Counting objects:  87% (118/135)\u001b[K\rremote: Counting objects:  88% (119/135)\u001b[K\rremote: Counting objects:  89% (121/135)\u001b[K\rremote: Counting objects:  90% (122/135)\u001b[K\rremote: Counting objects:  91% (123/135)\u001b[K\rremote: Counting objects:  92% (125/135)\u001b[K\rremote: Counting objects:  93% (126/135)\u001b[K\rremote: Counting objects:  94% (127/135)\u001b[K\rremote: Counting objects:  95% (129/135)\u001b[K\rremote: Counting objects:  96% (130/135)\u001b[K\rremote: Counting objects:  97% (131/135)\u001b[K\rremote: Counting objects:  98% (133/135)\u001b[K\rremote: Counting objects:  99% (134/135)\u001b[K\rremote: Counting objects: 100% (135/135)\u001b[K\rremote: Counting objects: 100% (135/135), done.\u001b[K\n",
            "remote: Compressing objects:   0% (1/133)\u001b[K\rremote: Compressing objects:   1% (2/133)\u001b[K\rremote: Compressing objects:   2% (3/133)\u001b[K\rremote: Compressing objects:   3% (4/133)\u001b[K\rremote: Compressing objects:   4% (6/133)\u001b[K\rremote: Compressing objects:   5% (7/133)\u001b[K\rremote: Compressing objects:   6% (8/133)\u001b[K\rremote: Compressing objects:   7% (10/133)\u001b[K\rremote: Compressing objects:   8% (11/133)\u001b[K\rremote: Compressing objects:   9% (12/133)\u001b[K\rremote: Compressing objects:  10% (14/133)\u001b[K\rremote: Compressing objects:  11% (15/133)\u001b[K\rremote: Compressing objects:  12% (16/133)\u001b[K\rremote: Compressing objects:  13% (18/133)\u001b[K\rremote: Compressing objects:  14% (19/133)\u001b[K\rremote: Compressing objects:  15% (20/133)\u001b[K\rremote: Compressing objects:  16% (22/133)\u001b[K\rremote: Compressing objects:  17% (23/133)\u001b[K\rremote: Compressing objects:  18% (24/133)\u001b[K\rremote: Compressing objects:  19% (26/133)\u001b[K\rremote: Compressing objects:  20% (27/133)\u001b[K\rremote: Compressing objects:  21% (28/133)\u001b[K\rremote: Compressing objects:  22% (30/133)\u001b[K\rremote: Compressing objects:  23% (31/133)\u001b[K\rremote: Compressing objects:  24% (32/133)\u001b[K\rremote: Compressing objects:  25% (34/133)\u001b[K\rremote: Compressing objects:  26% (35/133)\u001b[K\rremote: Compressing objects:  27% (36/133)\u001b[K\rremote: Compressing objects:  28% (38/133)\u001b[K\rremote: Compressing objects:  29% (39/133)\u001b[K\rremote: Compressing objects:  30% (40/133)\u001b[K\rremote: Compressing objects:  31% (42/133)\u001b[K\rremote: Compressing objects:  32% (43/133)\u001b[K\rremote: Compressing objects:  33% (44/133)\u001b[K\rremote: Compressing objects:  34% (46/133)\u001b[K\rremote: Compressing objects:  35% (47/133)\u001b[K\rremote: Compressing objects:  36% (48/133)\u001b[K\rremote: Compressing objects:  37% (50/133)\u001b[K\rremote: Compressing objects:  38% (51/133)\u001b[K\rremote: Compressing objects:  39% (52/133)\u001b[K\rremote: Compressing objects:  40% (54/133)\u001b[K\rremote: Compressing objects:  41% (55/133)\u001b[K\rremote: Compressing objects:  42% (56/133)\u001b[K\rremote: Compressing objects:  43% (58/133)\u001b[K\rremote: Compressing objects:  44% (59/133)\u001b[K\rremote: Compressing objects:  45% (60/133)\u001b[K\rremote: Compressing objects:  46% (62/133)\u001b[K\rremote: Compressing objects:  47% (63/133)\u001b[K\rremote: Compressing objects:  48% (64/133)\u001b[K\rremote: Compressing objects:  49% (66/133)\u001b[K\rremote: Compressing objects:  50% (67/133)\u001b[K\rremote: Compressing objects:  51% (68/133)\u001b[K\rremote: Compressing objects:  52% (70/133)\u001b[K\rremote: Compressing objects:  53% (71/133)\u001b[K\rremote: Compressing objects:  54% (72/133)\u001b[K\rremote: Compressing objects:  55% (74/133)\u001b[K\rremote: Compressing objects:  56% (75/133)\u001b[K\rremote: Compressing objects:  57% (76/133)\u001b[K\rremote: Compressing objects:  58% (78/133)\u001b[K\rremote: Compressing objects:  59% (79/133)\u001b[K\rremote: Compressing objects:  60% (80/133)\u001b[K\rremote: Compressing objects:  61% (82/133)\u001b[K\rremote: Compressing objects:  62% (83/133)\u001b[K\rremote: Compressing objects:  63% (84/133)\u001b[K\rremote: Compressing objects:  64% (86/133)\u001b[K\rremote: Compressing objects:  65% (87/133)\u001b[K\rremote: Compressing objects:  66% (88/133)\u001b[K\rremote: Compressing objects:  67% (90/133)\u001b[K\rremote: Compressing objects:  68% (91/133)\u001b[K\rremote: Compressing objects:  69% (92/133)\u001b[K\rremote: Compressing objects:  70% (94/133)\u001b[K\rremote: Compressing objects:  71% (95/133)\u001b[K\rremote: Compressing objects:  72% (96/133)\u001b[K\rremote: Compressing objects:  73% (98/133)\u001b[K\rremote: Compressing objects:  74% (99/133)\u001b[K\rremote: Compressing objects:  75% (100/133)\u001b[K\rremote: Compressing objects:  76% (102/133)\u001b[K\rremote: Compressing objects:  77% (103/133)\u001b[K\rremote: Compressing objects:  78% (104/133)\u001b[K\rremote: Compressing objects:  79% (106/133)\u001b[K\rremote: Compressing objects:  80% (107/133)\u001b[K\rremote: Compressing objects:  81% (108/133)\u001b[K\rremote: Compressing objects:  82% (110/133)\u001b[K\rremote: Compressing objects:  83% (111/133)\u001b[K\rremote: Compressing objects:  84% (112/133)\u001b[K\rremote: Compressing objects:  85% (114/133)\u001b[K\rremote: Compressing objects:  86% (115/133)\u001b[K\rremote: Compressing objects:  87% (116/133)\u001b[K\rremote: Compressing objects:  88% (118/133)\u001b[K\rremote: Compressing objects:  89% (119/133)\u001b[K\rremote: Compressing objects:  90% (120/133)\u001b[K\rremote: Compressing objects:  91% (122/133)\u001b[K\rremote: Compressing objects:  92% (123/133)\u001b[K\rremote: Compressing objects:  93% (124/133)\u001b[K\rremote: Compressing objects:  94% (126/133)\u001b[K\rremote: Compressing objects:  95% (127/133)\u001b[K\rremote: Compressing objects:  96% (128/133)\u001b[K\rremote: Compressing objects:  97% (130/133)\u001b[K\rremote: Compressing objects:  98% (131/133)\u001b[K\rremote: Compressing objects:  99% (132/133)\u001b[K\rremote: Compressing objects: 100% (133/133)\u001b[K\rremote: Compressing objects: 100% (133/133), done.\u001b[K\n",
            "Receiving objects:   0% (1/135)   \rReceiving objects:   1% (2/135)   \rReceiving objects:   2% (3/135)   \rReceiving objects:   3% (5/135)   \rReceiving objects:   4% (6/135)   \rReceiving objects:   5% (7/135)   \rReceiving objects:   6% (9/135)   \rReceiving objects:   7% (10/135)   \rReceiving objects:   8% (11/135)   \rReceiving objects:   9% (13/135)   \rReceiving objects:  10% (14/135)   \rReceiving objects:  11% (15/135)   \rReceiving objects:  12% (17/135)   \rReceiving objects:  13% (18/135)   \rReceiving objects:  14% (19/135)   \rReceiving objects:  15% (21/135)   \rReceiving objects:  16% (22/135)   \rReceiving objects:  17% (23/135)   \rReceiving objects:  18% (25/135)   \rReceiving objects:  19% (26/135)   \rReceiving objects:  20% (27/135)   \rReceiving objects:  21% (29/135)   \rReceiving objects:  22% (30/135)   \rReceiving objects:  23% (32/135)   \rReceiving objects:  24% (33/135)   \rReceiving objects:  25% (34/135)   \rReceiving objects:  26% (36/135)   \rReceiving objects:  27% (37/135)   \rReceiving objects:  28% (38/135)   \rReceiving objects:  29% (40/135)   \rReceiving objects:  30% (41/135)   \rReceiving objects:  31% (42/135)   \rReceiving objects:  32% (44/135)   \rReceiving objects:  33% (45/135)   \rReceiving objects:  34% (46/135)   \rReceiving objects:  35% (48/135)   \rReceiving objects:  36% (49/135)   \rremote: Total 135 (delta 80), reused 0 (delta 0), pack-reused 0\u001b[K\n",
            "Receiving objects:  37% (50/135)   \rReceiving objects:  38% (52/135)   \rReceiving objects:  39% (53/135)   \rReceiving objects:  40% (54/135)   \rReceiving objects:  41% (56/135)   \rReceiving objects:  42% (57/135)   \rReceiving objects:  43% (59/135)   \rReceiving objects:  44% (60/135)   \rReceiving objects:  45% (61/135)   \rReceiving objects:  46% (63/135)   \rReceiving objects:  47% (64/135)   \rReceiving objects:  48% (65/135)   \rReceiving objects:  49% (67/135)   \rReceiving objects:  50% (68/135)   \rReceiving objects:  51% (69/135)   \rReceiving objects:  52% (71/135)   \rReceiving objects:  53% (72/135)   \rReceiving objects:  54% (73/135)   \rReceiving objects:  55% (75/135)   \rReceiving objects:  56% (76/135)   \rReceiving objects:  57% (77/135)   \rReceiving objects:  58% (79/135)   \rReceiving objects:  59% (80/135)   \rReceiving objects:  60% (81/135)   \rReceiving objects:  61% (83/135)   \rReceiving objects:  62% (84/135)   \rReceiving objects:  63% (86/135)   \rReceiving objects:  64% (87/135)   \rReceiving objects:  65% (88/135)   \rReceiving objects:  66% (90/135)   \rReceiving objects:  67% (91/135)   \rReceiving objects:  68% (92/135)   \rReceiving objects:  69% (94/135)   \rReceiving objects:  70% (95/135)   \rReceiving objects:  71% (96/135)   \rReceiving objects:  72% (98/135)   \rReceiving objects:  73% (99/135)   \rReceiving objects:  74% (100/135)   \rReceiving objects:  75% (102/135)   \rReceiving objects:  76% (103/135)   \rReceiving objects:  77% (104/135)   \rReceiving objects:  78% (106/135)   \rReceiving objects:  79% (107/135)   \rReceiving objects:  80% (108/135)   \rReceiving objects:  81% (110/135)   \rReceiving objects:  82% (111/135)   \rReceiving objects:  83% (113/135)   \rReceiving objects:  84% (114/135)   \rReceiving objects:  85% (115/135)   \rReceiving objects:  86% (117/135)   \rReceiving objects:  87% (118/135)   \rReceiving objects:  88% (119/135)   \rReceiving objects:  89% (121/135)   \rReceiving objects:  90% (122/135)   \rReceiving objects:  91% (123/135)   \rReceiving objects:  92% (125/135)   \rReceiving objects:  93% (126/135)   \rReceiving objects:  94% (127/135)   \rReceiving objects:  95% (129/135)   \rReceiving objects:  96% (130/135)   \rReceiving objects:  97% (131/135)   \rReceiving objects:  98% (133/135)   \rReceiving objects:  99% (134/135)   \rReceiving objects: 100% (135/135)   \rReceiving objects: 100% (135/135), 45.57 KiB | 2.68 MiB/s, done.\n",
            "Resolving deltas:   0% (0/80)   \rResolving deltas:  56% (45/80)   \rResolving deltas:  98% (79/80)   \rResolving deltas: 100% (80/80)   \rResolving deltas: 100% (80/80), done.\n"
          ],
          "name": "stdout"
        }
      ]
    },
    {
      "cell_type": "code",
      "metadata": {
        "colab_type": "code",
        "id": "btZL0H3XBPx-",
        "outputId": "b0be8235-4617-4901-86fd-93b6c2310713",
        "colab": {
          "base_uri": "https://localhost:8080/",
          "height": 56
        }
      },
      "source": [
        "%cd DE_Revisited\n",
        "#!ls"
      ],
      "execution_count": 76,
      "outputs": [
        {
          "output_type": "stream",
          "text": [
            "/content/DE_Revisited/DE_Revisited/DE_Revisited/DE_Revisited/DE_Revisited/DE_Revisited/DE_Revisited/DE_Revisited/DE_Revisited/DE_Revisited\n"
          ],
          "name": "stdout"
        }
      ]
    },
    {
      "cell_type": "code",
      "metadata": {
        "id": "B7iwhNIlDXv2",
        "colab_type": "code",
        "colab": {}
      },
      "source": [
        "############################### Importar bibliotecas e iniciar a contagem do tempo\n",
        "import time\n",
        "import matplotlib.pyplot as plt\n",
        "import numpy as np\n",
        "from random import randint\n",
        "from scipy import optimize\n",
        "import de_revisited_bounds\n",
        "import de_soma_reviseted\n",
        "###############################"
      ],
      "execution_count": 0,
      "outputs": []
    },
    {
      "cell_type": "code",
      "metadata": {
        "colab_type": "code",
        "id": "BDMwd41C5ahQ",
        "colab": {}
      },
      "source": [
        "def fobj_de(x):\n",
        "  global MAX,MIN, mut, crossp, NPAR, its,Fun,X,SOMA,TOTAL,ITE,PARTIC\n",
        "  x=PARTIC\n",
        "  #print(MAX);print(MIN)\n",
        "  ind_mut=ITE-1\n",
        "  ind_crossp=2*ITE-1\n",
        "  for k in range(ITE):\n",
        "    ind_mut=ind_mut+1\n",
        "    ind_crossp=ind_crossp+1\n",
        "    #print(\"ind_mut\",ind_mut)\n",
        "    #print(\"ind_crossp\",ind_crossp)\n",
        "    #print(\"x\",x)\n",
        "    #print(\"k=\",k)\n",
        "    NPAR=np.copy(int(x[k]))\n",
        "    #print(\"NPAR=\",NPAR)\n",
        "    mut=np.copy(x[ind_mut])\n",
        "    crossp=np.copy(x[ind_crossp])\n",
        "    X,BEST,FOBEST,XY,BEST_XY,SOMA= de_soma_reviseted.de(MAX,MIN, mut, crossp, \n",
        "                                                            NPAR, its,Fun,X,SOMA,\n",
        "                                                            TOTAL)\n",
        "    \n",
        "  return FOBEST"
      ],
      "execution_count": 0,
      "outputs": []
    },
    {
      "cell_type": "code",
      "metadata": {
        "colab_type": "code",
        "id": "v1OxgXboBKoG",
        "colab": {}
      },
      "source": [
        "############################### DADOS DE ENTRADA \n",
        "RUNS=1 #NÚMERO DE RODADAS\n",
        "#mut=0.8\n",
        "#crossp=0.7\n",
        "  ############################### Função\n",
        "import Function\n",
        "\n",
        "'''\n",
        "Fun=Function.Rosenbrock\n",
        "dim=30\n",
        "MAX=np.repeat(10,dim)\n",
        "MIN=np.repeat(-10,dim)\n",
        "\n",
        "  #Global optimum: f(xi)= 0\n",
        "'''\n",
        "'''\n",
        "dim=30\n",
        "Fun=Function.Sphere\n",
        "MAX=np.repeat(5.12,dim)\n",
        "MIN=np.repeat(-5.12,dim)\n",
        "  # f(x)=0 x=(0,0) [-5.12,5.12]\n",
        "'''\n",
        "#'''\n",
        "dim=3\n",
        "Fun=Function.Schwefel\n",
        "MAX=np.repeat(500,dim)\n",
        "MIN=np.repeat(-500,dim)\n",
        "  #Global optimum: f(xi)= 0 for xi = 420.968746 for i=1,...,n  ;  xi in [-500,500]  \n",
        "#'''\n",
        "'''\n",
        "dim=30\n",
        "Fun=Function.Rastrigin\n",
        "MAX=np.repeat(5.12,dim)\n",
        "MIN=np.repeat(-5.12,dim)\n",
        "  # f(x)=0 x=(0,0) [-5.12,5.12]\n",
        "'''\n",
        "'''\n",
        "dim=30\n",
        "Fun=Function.Sum_of_different_powers\n",
        "MAX=np.repeat(1,dim)\n",
        "MIN=np.repeat(-1,dim)\n",
        "  # f(x)=0 x=(0,0)\n",
        "'''\n",
        "'''  \n",
        "dim=30\n",
        "Fun=Function.Ackley\n",
        "MAX=np.repeat(32,dim)\n",
        "MIN=np.repeat(-32,dim)\n",
        " # f(x)=0 x=(0,0) [-32, 32]\n",
        "'''\n",
        "'''  \n",
        "dim=30\n",
        "Fun=Function.Michalewicz\n",
        "MAX=np.repeat(np.pi,dim)\n",
        "MIN=np.repeat(0,dim)\n",
        " #fx=-9.66015 p/ d=10 [0,pi]\n",
        "'''\n",
        "'''  \n",
        "dim=30\n",
        "Fun=Function.\n",
        "MAX=np.repeat(1,dim)\n",
        "MIN=np.repeat(-1,dim)\n",
        "'''\n",
        "\n",
        "PAR=len(MAX) #NUM DE PARAMETROS A SER OTIMIZADOS\n"
      ],
      "execution_count": 0,
      "outputs": []
    },
    {
      "cell_type": "code",
      "metadata": {
        "id": "Mb3LmbSmj9v7",
        "colab_type": "code",
        "outputId": "ea03606b-f4e6-4f20-ba8e-7438affb2289",
        "colab": {
          "base_uri": "https://localhost:8080/",
          "height": 205
        }
      },
      "source": [
        "##################################### IMPORTAR MÓDULOS\n",
        "\n",
        "\n",
        "\n",
        "NMAX=1000 # maximo tamanho da populacao\n",
        "\n",
        "dimensions=len(MAX)\n",
        "\n",
        "start_time = time.time() #INICIALIZA CONTAGEM DO TEMPO\n",
        "its=10 # quantas vezes vai usar o NPAR antes de alterar de novo\n",
        "ITE=10 # PONTOS quantas vezes vai alteral NPAR \n",
        "#PARTIC=[10,80,10,400,100,100,100,100,100,100]\n",
        "#ITE=50 # so para testar\n",
        "\n",
        "#TOTAL=7*dim*its*ITE\n",
        "TOTAL=10*dim*its*ITE\n",
        "\n",
        "maxiter=5\n",
        "popsize=5\n",
        "p=int(TOTAL/its/ITE) \n",
        "\n",
        "#PARTIC=np.zeros(ITE) # porque isto se eh redefinido mais em baixo e nao eh usado aqui\n",
        "MAX_P=np.zeros(ITE) # ATENCAO para variar F e Cr MAX_P passa a ser 3 vezes maior\n",
        "MIN_P=np.zeros(ITE) # ATENCAO para variar F e Cr  MIN_P passa a ser 3 vezes maior\n",
        "\n",
        "for i in range(dim):\n",
        "  MAX_P[i]=MAX[i] \n",
        "  MIN_P[i]=MIN[i]\n",
        "\n",
        "\n",
        "for i in range(RUNS):\n",
        "  SOMA=0\n",
        "  pop = np.random.rand(NMAX, dimensions)\n",
        "  diff=np.zeros(PAR)\n",
        "  for ii in range(PAR):\n",
        "    diff[ii] = MAX[ii]-MIN[ii]\n",
        "  X = MIN + pop * diff\n",
        "    \n",
        "  PONTOS=ITE # DIVISOES DA POPULACAO\n",
        " \n",
        " ############################################################\n",
        "  #bounds=[(5*dim, 15*dim)] * PONTOS # ITE\n",
        "  #bounds=[(3*dim, 12*dim)] * PONTOS # ITE\n",
        "  #bounds=[(4*dim, 16*dim)] * PONTOS\n",
        "  \n",
        "  # nao pode ser assim pq o bounds vale p o DE nao dos parametros\n",
        "  #p=int(TOTAL/its/ITE) \n",
        "  bounds=[(p, p)] * PONTOS\n",
        "  #bounds=[]\n",
        "  #for k in range(dim):\n",
        "  #  bounds.append((MIN[k], MAX[k]))\n",
        "  # print(\"=========bounds=\",bounds)\n",
        "    \n",
        "\n",
        "\n",
        "  '''\n",
        "  #Geral\n",
        "  new_mut=(0,1)\n",
        "  new_crossp=(0,1)\n",
        "  '''\n",
        "  #'''\n",
        "  #Multimodal Separável \n",
        "  new_mut=(0.5,1)\n",
        "  new_crossp=(0,0.5)\n",
        "  #'''\n",
        "  '''\n",
        "  #Multimodal Não Separável \n",
        "  new_mut=(0.5,1)\n",
        "  new_crossp=(0.5,1)\n",
        "  '''\n",
        "  '''\n",
        "  ##### Unimodal Separável\n",
        "  new_mut=(0,0.5)\n",
        "  new_crossp=(0,0.5)\n",
        "  '''\n",
        "  '''\n",
        "  ##### Unimodal Não Separável\n",
        "  new_mut=(0,0.5)\n",
        "  new_crossp=(0.5,1)\n",
        "  '''\n",
        " ############################################################ \n",
        "  # nao pode ser assim pq o bounds vale p o DE nao dos parametros\n",
        "  ''' '''\n",
        "  for j in range(PONTOS):\n",
        "    bounds.append(new_mut)\n",
        "    \n",
        "  for j in range(PONTOS):\n",
        "    bounds.append(new_crossp)\n",
        "\n",
        "  #print(\"=========bounds=\",bounds)\n",
        "\n",
        "  new_mut=(0.5,1)\n",
        "  new_crossp=(0,0.5)\n",
        "  Fr=np.zeros(its)\n",
        "  Cr=np.zeros(its)\n",
        "  #for i in range(its): # conferir se eh i mesmo ou deve ser k o indice\n",
        "  #  Cr[i]=new_mut[0]+(new_mut[1]-new_mut[0])*np.random.random()\n",
        "  #  Fr[i]=new_mut[0]+(new_mut[1]-new_mut[0])*np.random.random()\n",
        "  Cr=0;Fr=0;NP=p;\n",
        "  PARTIC=np.zeros(its*3)\n",
        "  for i in range(its):\n",
        "    Cr=new_crossp[0]+(new_crossp[1]-new_crossp[0])*np.random.random()\n",
        "    Fr=new_mut[0]+(new_mut[1]-new_mut[0])*np.random.random()\n",
        "    PARTIC[i]=p\n",
        "    PARTIC[i+10]=Fr\n",
        "    PARTIC[i+20]=Cr\n",
        "  #print(\"=========PARTIC=\",PARTIC)\n",
        "  mut=0.5;  crossp=0.5;popsize=len(PARTIC);\n",
        "  X,BEST,FOBEST,XY,BEST_XY= de_revisited_bounds.de(bounds, mut, \n",
        "                                                   crossp,popsize, maxiter,\n",
        "                                                   fobj_de,PARTIC)\n",
        "  \n",
        "\n",
        "  print('OTIMIZAÇÃO DE_','maxiter=',maxiter,'_ popsize=', popsize,'_ bounds=',\n",
        "        bounds[0],'_F',new_mut,'_Cr',new_crossp,'_ TOTAL=',TOTAL,'_ Dim=', \n",
        "        PAR,\"_Min/Max=\",MIN[0],\"/\",MAX[0],'_',Fun.__name__)\n",
        "  print('otimo FOBEST=',FOBEST)\n",
        "  print(\"Soma=\",SOMA)\n",
        "  print(\"Particulas= \",PARTIC) \n",
        "print(\"GlobalParam e Solucao:\", BEST,\"Função=\",FOBEST)     \n"
      ],
      "execution_count": 80,
      "outputs": [
        {
          "output_type": "stream",
          "text": [
            "OTIMIZAÇÃO DE_ maxiter= 50 _ popsize= 30 _ bounds= (30.0, 30.0) _F (0.5, 1) _Cr (0, 0.5) _ TOTAL= 3000 _ Dim= 3 _Min/Max= -500 / 500 _ Schwefel\n",
            "otimo FOBEST= 1.9596200218074955e-08\n",
            "Soma= 3001\n",
            "Particulas=  [30.         30.         30.         30.         30.         30.\n",
            " 30.         30.         30.         30.          0.79602664  0.78594685\n",
            "  0.90953621  0.70745124  0.58976267  0.7584991   0.9063425   0.51086968\n",
            "  0.52350247  0.88007679  0.48336161  0.17904666  0.32053676  0.44381592\n",
            "  0.36242065  0.10023478  0.32415493  0.28171851  0.45054082  0.07962838]\n",
            "GlobalParam e Solucao: 30.0 Função= 1.9596200218074955e-08\n"
          ],
          "name": "stdout"
        }
      ]
    },
    {
      "cell_type": "code",
      "metadata": {
        "id": "IM4Z1313Kcqh",
        "colab_type": "code",
        "colab": {
          "base_uri": "https://localhost:8080/",
          "height": 36
        },
        "outputId": "55c4a6e8-bd44-4e6d-e322-58ff6c2ed80b"
      },
      "source": [
        "BEST"
      ],
      "execution_count": 81,
      "outputs": [
        {
          "output_type": "execute_result",
          "data": {
            "text/plain": [
              "30.0"
            ]
          },
          "metadata": {
            "tags": []
          },
          "execution_count": 81
        }
      ]
    },
    {
      "cell_type": "code",
      "metadata": {
        "id": "GENKcGCepK-J",
        "colab_type": "code",
        "colab": {
          "base_uri": "https://localhost:8080/",
          "height": 36
        },
        "outputId": "7320ea08-c3a6-4107-b457-4771833bef4f"
      },
      "source": [
        "print(len(bounds))"
      ],
      "execution_count": 82,
      "outputs": [
        {
          "output_type": "stream",
          "text": [
            "30\n"
          ],
          "name": "stdout"
        }
      ]
    },
    {
      "cell_type": "code",
      "metadata": {
        "id": "aPls7UosX4or",
        "colab_type": "code",
        "colab": {
          "base_uri": "https://localhost:8080/",
          "height": 36
        },
        "outputId": "799bd9cd-cd9f-43b0-d681-ca609dd5caef"
      },
      "source": [
        "print(TOTAL)"
      ],
      "execution_count": 83,
      "outputs": [
        {
          "output_type": "stream",
          "text": [
            "3000\n"
          ],
          "name": "stdout"
        }
      ]
    },
    {
      "cell_type": "code",
      "metadata": {
        "id": "n33GTL5NyCt_",
        "colab_type": "code",
        "colab": {
          "base_uri": "https://localhost:8080/",
          "height": 111
        },
        "outputId": "ae52e734-0620-41aa-92d2-0cacd23f8413"
      },
      "source": [
        "print(PARTIC)"
      ],
      "execution_count": 84,
      "outputs": [
        {
          "output_type": "stream",
          "text": [
            "[30.         30.         30.         30.         30.         30.\n",
            " 30.         30.         30.         30.          0.79602664  0.78594685\n",
            "  0.90953621  0.70745124  0.58976267  0.7584991   0.9063425   0.51086968\n",
            "  0.52350247  0.88007679  0.48336161  0.17904666  0.32053676  0.44381592\n",
            "  0.36242065  0.10023478  0.32415493  0.28171851  0.45054082  0.07962838]\n"
          ],
          "name": "stdout"
        }
      ]
    },
    {
      "cell_type": "code",
      "metadata": {
        "id": "rNocpY6IaLDA",
        "colab_type": "code",
        "colab": {
          "base_uri": "https://localhost:8080/",
          "height": 36
        },
        "outputId": "78314b08-fb92-4d12-cc24-9e30347f2e38"
      },
      "source": [
        "print(len(bounds))"
      ],
      "execution_count": 85,
      "outputs": [
        {
          "output_type": "stream",
          "text": [
            "30\n"
          ],
          "name": "stdout"
        }
      ]
    },
    {
      "cell_type": "code",
      "metadata": {
        "id": "9k1MgL3u1q_B",
        "colab_type": "code",
        "colab": {
          "base_uri": "https://localhost:8080/",
          "height": 36
        },
        "outputId": "ae11c7de-e42f-4b6e-e642-0bb4daa33966"
      },
      "source": [
        "TIME = (time.time() - start_time)\n",
        "print(TIME/60,'minutos')"
      ],
      "execution_count": 86,
      "outputs": [
        {
          "output_type": "stream",
          "text": [
            "0.4855953057607015 minutos\n"
          ],
          "name": "stdout"
        }
      ]
    },
    {
      "cell_type": "code",
      "metadata": {
        "id": "m9LP0Xt1CjMp",
        "colab_type": "code",
        "colab": {
          "base_uri": "https://localhost:8080/",
          "height": 36
        },
        "outputId": "f3154197-5cfb-4cfa-c6b2-af11f505fefb"
      },
      "source": [
        "s=PARTIC*its\n",
        "somaa=s.sum()\n",
        "print('SOMA PARTIC=',somaa)"
      ],
      "execution_count": 87,
      "outputs": [
        {
          "output_type": "stream",
          "text": [
            "SOMA PARTIC= 3103.9347317176785\n"
          ],
          "name": "stdout"
        }
      ]
    },
    {
      "cell_type": "code",
      "metadata": {
        "id": "tRrAAQELJHus",
        "colab_type": "code",
        "colab": {
          "base_uri": "https://localhost:8080/",
          "height": 36
        },
        "outputId": "5eb1c48f-101d-4133-d23c-5c5002115464"
      },
      "source": [
        "type(BEST)"
      ],
      "execution_count": 88,
      "outputs": [
        {
          "output_type": "execute_result",
          "data": {
            "text/plain": [
              "numpy.float64"
            ]
          },
          "metadata": {
            "tags": []
          },
          "execution_count": 88
        }
      ]
    },
    {
      "cell_type": "code",
      "metadata": {
        "id": "IJV62yE7vl1K",
        "colab_type": "code",
        "colab": {
          "base_uri": "https://localhost:8080/",
          "height": 266
        },
        "outputId": "f9d54678-395e-408c-efe1-acea54d93237"
      },
      "source": [
        "BEST=BEST.tolist()\n",
        "print('PARTIC=[',end = '')\n",
        "for i in range(len(BEST)):\n",
        "  if i<ITE:\n",
        "    print(int(BEST[i]),',',end = '')\n",
        "  else:\n",
        "    print(BEST[i],',',end = '')\n",
        "print(']',end = '')"
      ],
      "execution_count": 89,
      "outputs": [
        {
          "output_type": "stream",
          "text": [
            "PARTIC=["
          ],
          "name": "stdout"
        },
        {
          "output_type": "error",
          "ename": "TypeError",
          "evalue": "ignored",
          "traceback": [
            "\u001b[0;31m---------------------------------------------------------------------------\u001b[0m",
            "\u001b[0;31mTypeError\u001b[0m                                 Traceback (most recent call last)",
            "\u001b[0;32m<ipython-input-89-ebe56523b8c0>\u001b[0m in \u001b[0;36m<module>\u001b[0;34m()\u001b[0m\n\u001b[1;32m      1\u001b[0m \u001b[0mBEST\u001b[0m\u001b[0;34m=\u001b[0m\u001b[0mBEST\u001b[0m\u001b[0;34m.\u001b[0m\u001b[0mtolist\u001b[0m\u001b[0;34m(\u001b[0m\u001b[0;34m)\u001b[0m\u001b[0;34m\u001b[0m\u001b[0;34m\u001b[0m\u001b[0m\n\u001b[1;32m      2\u001b[0m \u001b[0mprint\u001b[0m\u001b[0;34m(\u001b[0m\u001b[0;34m'PARTIC=['\u001b[0m\u001b[0;34m,\u001b[0m\u001b[0mend\u001b[0m \u001b[0;34m=\u001b[0m \u001b[0;34m''\u001b[0m\u001b[0;34m)\u001b[0m\u001b[0;34m\u001b[0m\u001b[0;34m\u001b[0m\u001b[0m\n\u001b[0;32m----> 3\u001b[0;31m \u001b[0;32mfor\u001b[0m \u001b[0mi\u001b[0m \u001b[0;32min\u001b[0m \u001b[0mrange\u001b[0m\u001b[0;34m(\u001b[0m\u001b[0mlen\u001b[0m\u001b[0;34m(\u001b[0m\u001b[0mBEST\u001b[0m\u001b[0;34m)\u001b[0m\u001b[0;34m)\u001b[0m\u001b[0;34m:\u001b[0m\u001b[0;34m\u001b[0m\u001b[0;34m\u001b[0m\u001b[0m\n\u001b[0m\u001b[1;32m      4\u001b[0m   \u001b[0;32mif\u001b[0m \u001b[0mi\u001b[0m\u001b[0;34m<\u001b[0m\u001b[0mITE\u001b[0m\u001b[0;34m:\u001b[0m\u001b[0;34m\u001b[0m\u001b[0;34m\u001b[0m\u001b[0m\n\u001b[1;32m      5\u001b[0m     \u001b[0mprint\u001b[0m\u001b[0;34m(\u001b[0m\u001b[0mint\u001b[0m\u001b[0;34m(\u001b[0m\u001b[0mBEST\u001b[0m\u001b[0;34m[\u001b[0m\u001b[0mi\u001b[0m\u001b[0;34m]\u001b[0m\u001b[0;34m)\u001b[0m\u001b[0;34m,\u001b[0m\u001b[0;34m','\u001b[0m\u001b[0;34m,\u001b[0m\u001b[0mend\u001b[0m \u001b[0;34m=\u001b[0m \u001b[0;34m''\u001b[0m\u001b[0;34m)\u001b[0m\u001b[0;34m\u001b[0m\u001b[0;34m\u001b[0m\u001b[0m\n",
            "\u001b[0;31mTypeError\u001b[0m: object of type 'float' has no len()"
          ]
        }
      ]
    },
    {
      "cell_type": "code",
      "metadata": {
        "id": "UYCP74JkJyLD",
        "colab_type": "code",
        "colab": {}
      },
      "source": [
        "BEST"
      ],
      "execution_count": 0,
      "outputs": []
    }
  ]
}