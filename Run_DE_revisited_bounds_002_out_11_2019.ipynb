{
  "nbformat": 4,
  "nbformat_minor": 0,
  "metadata": {
    "colab": {
      "name": "Run_DE_revisited_bounds_002_out_11_2019.ipynb",
      "provenance": [],
      "collapsed_sections": [],
      "include_colab_link": true
    },
    "kernelspec": {
      "name": "python3",
      "display_name": "Python 3"
    }
  },
  "cells": [
    {
      "cell_type": "markdown",
      "metadata": {
        "id": "view-in-github",
        "colab_type": "text"
      },
      "source": [
        "<a href=\"https://colab.research.google.com/github/ucfilho/DE_Revisited/blob/master/Run_DE_revisited_bounds_002_out_11_2019.ipynb\" target=\"_parent\"><img src=\"https://colab.research.google.com/assets/colab-badge.svg\" alt=\"Open In Colab\"/></a>"
      ]
    },
    {
      "cell_type": "code",
      "metadata": {
        "id": "e9SUtOlp7WlE",
        "colab_type": "code",
        "outputId": "23b206f4-6ec7-4713-c8b3-fb26d89bd64f",
        "colab": {
          "base_uri": "https://localhost:8080/",
          "height": 54
        }
      },
      "source": [
        "!git clone https://github.com/ucfilho/DE_Revisited/ #clonar do Github\n",
        "%cd DE_Revisited\n",
        "#!ls"
      ],
      "execution_count": 0,
      "outputs": [
        {
          "output_type": "stream",
          "text": [
            "fatal: destination path 'DE_Revisited' already exists and is not an empty directory.\n",
            "/content/DE_Revisited\n"
          ],
          "name": "stdout"
        }
      ]
    },
    {
      "cell_type": "code",
      "metadata": {
        "id": "1mImfgCL8AEj",
        "colab_type": "code",
        "colab": {}
      },
      "source": [
        "import numpy as np\n",
        "from random import randint\n",
        "import Function\n",
        "\n",
        "import de_revisited_bounds\n",
        "\n",
        "NPAR=50\n",
        "its=100\n",
        "mut=0.7\n",
        "crossp=0.5"
      ],
      "execution_count": 0,
      "outputs": []
    },
    {
      "cell_type": "code",
      "metadata": {
        "id": "eGjoDmXd7yib",
        "colab_type": "code",
        "colab": {}
      },
      "source": [
        "#'''\n",
        "dim=5\n",
        "Fun=Function.Schwefel\n",
        "MAX=np.repeat(500,dim)\n",
        "MIN=np.repeat(-500,dim)\n",
        "  #Global optimum: f(xi)= 0 for xi = 420.968746 for i=1,...,n  ;  xi in [-500,500]  \n",
        "#'''"
      ],
      "execution_count": 0,
      "outputs": []
    },
    {
      "cell_type": "code",
      "metadata": {
        "id": "xOUygQKJ87vI",
        "colab_type": "code",
        "outputId": "47d41b86-73fc-4e9b-b106-ebda6aff5fc3",
        "colab": {
          "base_uri": "https://localhost:8080/",
          "height": 72
        }
      },
      "source": [
        "PAR=len(MAX)\n",
        "pop = np.random.rand(NPAR, PAR)\n",
        "diff=np.zeros(PAR)\n",
        "\n",
        "bounds=np.zeros((dim, 2))\n",
        "for i in range(dim):\n",
        "  bounds[i,0] = MIN[i]\n",
        "  bounds[i,1] = MAX[i]\n",
        "  diff[i] = MAX[i]-MIN[i]\n",
        "\n",
        "X = MIN + pop * diff\n",
        "\n",
        "X,BEST,FOBEST,XY,BEST_XY= de_revisited_bounds.de(bounds, mut, crossp, NPAR, its,Fun,X)\n",
        "\n",
        "print(\"GlobalParam e Solucao final:\", BEST_XY)\n",
        "print(\"GlobalParam e Solucao final:\", BEST)\n"
      ],
      "execution_count": 0,
      "outputs": [
        {
          "output_type": "stream",
          "text": [
            "GlobalParam e Solucao final: [ 128.9625762   455.81114068 -337.92378021  185.76808592  429.10396029\n",
            " 1217.77724772]\n",
            "GlobalParam e Solucao final: [ 128.9625762   455.81114068 -337.92378021  185.76808592  429.10396029]\n"
          ],
          "name": "stdout"
        }
      ]
    }
  ]
}